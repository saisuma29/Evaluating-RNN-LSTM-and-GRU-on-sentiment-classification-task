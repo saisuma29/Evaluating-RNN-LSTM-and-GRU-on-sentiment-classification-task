{
 "cells": [
  {
   "cell_type": "code",
   "execution_count": 1,
   "metadata": {},
   "outputs": [],
   "source": [
    "import pandas as pd\n",
    "import numpy as np\n",
    "import tensorflow as tf\n",
    "import string\n",
    "import random, os, re\n",
    "import matplotlib.pyplot as plt"
   ]
  },
  {
   "cell_type": "code",
   "execution_count": 2,
   "metadata": {},
   "outputs": [
    {
     "name": "stderr",
     "output_type": "stream",
     "text": [
      "Using TensorFlow backend.\n"
     ]
    }
   ],
   "source": [
    "from sklearn.model_selection import cross_val_score\n",
    "from sklearn.model_selection import train_test_split\n",
    "from keras.preprocessing.text import Tokenizer\n",
    "from keras.preprocessing.sequence import pad_sequences\n",
    "from keras.models import Sequential\n",
    "from keras.layers import Embedding, Dense, SimpleRNN, LSTM, GRU\n",
    "from sklearn.metrics import recall_score,f1_score,precision_score"
   ]
  },
  {
   "cell_type": "code",
   "execution_count": 3,
   "metadata": {},
   "outputs": [],
   "source": [
    "pos_path = 'rt-polaritydata/rt-polarity.pos'\n",
    "neg_path = 'rt-polaritydata/rt-polarity.neg'"
   ]
  },
  {
   "cell_type": "markdown",
   "metadata": {},
   "source": [
    "##### Preprocessing each file to remove digits, special characters, etc.,"
   ]
  },
  {
   "cell_type": "code",
   "execution_count": 4,
   "metadata": {},
   "outputs": [],
   "source": [
    "def preprocess(filename, label):\n",
    "    line_dict = []\n",
    "    f = open(label + '.txt', 'w+')\n",
    "    with open(filename, 'rt', encoding = 'latin-1') as file_open:\n",
    "        for line in file_open:\n",
    "            curr_line = line.lower()\n",
    "            curr_line = re.sub('<.*?>', '', curr_line)\n",
    "            curr_line = re.sub('<[a-zA-Z]', '', curr_line)\n",
    "            curr_line = re.sub('[a-zA-Z]>', '', curr_line)\n",
    "            curr_line = re.sub(r'[^\\w\\s]', '', curr_line)\n",
    "            curr_line = re.sub(r'[0-9]', '', curr_line)\n",
    "            curr_line = re.sub(r'[^\\x00-\\x7f]', '', curr_line)\n",
    "            line_dict.append(curr_line)\n",
    "            f.write(curr_line + '\\n')\n",
    "    return line_dict"
   ]
  },
  {
   "cell_type": "code",
   "execution_count": 5,
   "metadata": {},
   "outputs": [],
   "source": [
    "pos_dict = preprocess(pos_path, 'positive')\n",
    "neg_dict = preprocess(neg_path, 'negative')"
   ]
  },
  {
   "cell_type": "markdown",
   "metadata": {},
   "source": [
    "##### Forming dataframes"
   ]
  },
  {
   "cell_type": "code",
   "execution_count": 6,
   "metadata": {},
   "outputs": [
    {
     "data": {
      "text/html": [
       "<div>\n",
       "<style scoped>\n",
       "    .dataframe tbody tr th:only-of-type {\n",
       "        vertical-align: middle;\n",
       "    }\n",
       "\n",
       "    .dataframe tbody tr th {\n",
       "        vertical-align: top;\n",
       "    }\n",
       "\n",
       "    .dataframe thead th {\n",
       "        text-align: right;\n",
       "    }\n",
       "</style>\n",
       "<table border=\"1\" class=\"dataframe\">\n",
       "  <thead>\n",
       "    <tr style=\"text-align: right;\">\n",
       "      <th></th>\n",
       "      <th>Review</th>\n",
       "      <th>Label</th>\n",
       "    </tr>\n",
       "  </thead>\n",
       "  <tbody>\n",
       "    <tr>\n",
       "      <th>0</th>\n",
       "      <td>the rock is destined to be the st centurys new...</td>\n",
       "      <td>1</td>\n",
       "    </tr>\n",
       "    <tr>\n",
       "      <th>1</th>\n",
       "      <td>the gorgeously elaborate continuation of  the ...</td>\n",
       "      <td>1</td>\n",
       "    </tr>\n",
       "    <tr>\n",
       "      <th>2</th>\n",
       "      <td>effective but tootepid biopic\\n</td>\n",
       "      <td>1</td>\n",
       "    </tr>\n",
       "    <tr>\n",
       "      <th>3</th>\n",
       "      <td>if you sometimes like to go to the movies to h...</td>\n",
       "      <td>1</td>\n",
       "    </tr>\n",
       "    <tr>\n",
       "      <th>4</th>\n",
       "      <td>emerges as something rare  an issue movie that...</td>\n",
       "      <td>1</td>\n",
       "    </tr>\n",
       "  </tbody>\n",
       "</table>\n",
       "</div>"
      ],
      "text/plain": [
       "                                              Review  Label\n",
       "0  the rock is destined to be the st centurys new...      1\n",
       "1  the gorgeously elaborate continuation of  the ...      1\n",
       "2                    effective but tootepid biopic\\n      1\n",
       "3  if you sometimes like to go to the movies to h...      1\n",
       "4  emerges as something rare  an issue movie that...      1"
      ]
     },
     "execution_count": 6,
     "metadata": {},
     "output_type": "execute_result"
    }
   ],
   "source": [
    "p_data = pd.DataFrame(pos_dict, columns = ['Review'])\n",
    "p_data['Label'] = 1\n",
    "p_data.head()"
   ]
  },
  {
   "cell_type": "code",
   "execution_count": 7,
   "metadata": {},
   "outputs": [
    {
     "data": {
      "text/html": [
       "<div>\n",
       "<style scoped>\n",
       "    .dataframe tbody tr th:only-of-type {\n",
       "        vertical-align: middle;\n",
       "    }\n",
       "\n",
       "    .dataframe tbody tr th {\n",
       "        vertical-align: top;\n",
       "    }\n",
       "\n",
       "    .dataframe thead th {\n",
       "        text-align: right;\n",
       "    }\n",
       "</style>\n",
       "<table border=\"1\" class=\"dataframe\">\n",
       "  <thead>\n",
       "    <tr style=\"text-align: right;\">\n",
       "      <th></th>\n",
       "      <th>Review</th>\n",
       "      <th>Label</th>\n",
       "    </tr>\n",
       "  </thead>\n",
       "  <tbody>\n",
       "    <tr>\n",
       "      <th>0</th>\n",
       "      <td>simplistic  silly and tedious  \\n</td>\n",
       "      <td>0</td>\n",
       "    </tr>\n",
       "    <tr>\n",
       "      <th>1</th>\n",
       "      <td>its so laddish and juvenile  only teenage boys...</td>\n",
       "      <td>0</td>\n",
       "    </tr>\n",
       "    <tr>\n",
       "      <th>2</th>\n",
       "      <td>exploitative and largely devoid of the depth o...</td>\n",
       "      <td>0</td>\n",
       "    </tr>\n",
       "    <tr>\n",
       "      <th>3</th>\n",
       "      <td>garbus discards the potential for pathological...</td>\n",
       "      <td>0</td>\n",
       "    </tr>\n",
       "    <tr>\n",
       "      <th>4</th>\n",
       "      <td>a visually flashy but narratively opaque and e...</td>\n",
       "      <td>0</td>\n",
       "    </tr>\n",
       "  </tbody>\n",
       "</table>\n",
       "</div>"
      ],
      "text/plain": [
       "                                              Review  Label\n",
       "0                  simplistic  silly and tedious  \\n      0\n",
       "1  its so laddish and juvenile  only teenage boys...      0\n",
       "2  exploitative and largely devoid of the depth o...      0\n",
       "3  garbus discards the potential for pathological...      0\n",
       "4  a visually flashy but narratively opaque and e...      0"
      ]
     },
     "execution_count": 7,
     "metadata": {},
     "output_type": "execute_result"
    }
   ],
   "source": [
    "n_data = pd.DataFrame(neg_dict, columns = ['Review'])\n",
    "n_data['Label'] = 0\n",
    "n_data.head()"
   ]
  },
  {
   "cell_type": "markdown",
   "metadata": {},
   "source": [
    "##### Concatenating positive and negative dataframes"
   ]
  },
  {
   "cell_type": "code",
   "execution_count": 8,
   "metadata": {},
   "outputs": [
    {
     "data": {
      "text/html": [
       "<div>\n",
       "<style scoped>\n",
       "    .dataframe tbody tr th:only-of-type {\n",
       "        vertical-align: middle;\n",
       "    }\n",
       "\n",
       "    .dataframe tbody tr th {\n",
       "        vertical-align: top;\n",
       "    }\n",
       "\n",
       "    .dataframe thead th {\n",
       "        text-align: right;\n",
       "    }\n",
       "</style>\n",
       "<table border=\"1\" class=\"dataframe\">\n",
       "  <thead>\n",
       "    <tr style=\"text-align: right;\">\n",
       "      <th></th>\n",
       "      <th>Review</th>\n",
       "      <th>Label</th>\n",
       "    </tr>\n",
       "  </thead>\n",
       "  <tbody>\n",
       "    <tr>\n",
       "      <th>0</th>\n",
       "      <td>the rock is destined to be the st centurys new...</td>\n",
       "      <td>1</td>\n",
       "    </tr>\n",
       "    <tr>\n",
       "      <th>1</th>\n",
       "      <td>the gorgeously elaborate continuation of  the ...</td>\n",
       "      <td>1</td>\n",
       "    </tr>\n",
       "    <tr>\n",
       "      <th>2</th>\n",
       "      <td>effective but tootepid biopic\\n</td>\n",
       "      <td>1</td>\n",
       "    </tr>\n",
       "    <tr>\n",
       "      <th>3</th>\n",
       "      <td>if you sometimes like to go to the movies to h...</td>\n",
       "      <td>1</td>\n",
       "    </tr>\n",
       "    <tr>\n",
       "      <th>4</th>\n",
       "      <td>emerges as something rare  an issue movie that...</td>\n",
       "      <td>1</td>\n",
       "    </tr>\n",
       "  </tbody>\n",
       "</table>\n",
       "</div>"
      ],
      "text/plain": [
       "                                              Review  Label\n",
       "0  the rock is destined to be the st centurys new...      1\n",
       "1  the gorgeously elaborate continuation of  the ...      1\n",
       "2                    effective but tootepid biopic\\n      1\n",
       "3  if you sometimes like to go to the movies to h...      1\n",
       "4  emerges as something rare  an issue movie that...      1"
      ]
     },
     "execution_count": 8,
     "metadata": {},
     "output_type": "execute_result"
    }
   ],
   "source": [
    "reviews = pd.concat([p_data, n_data], ignore_index=True)\n",
    "reviews.head()"
   ]
  },
  {
   "cell_type": "markdown",
   "metadata": {},
   "source": [
    "##### Forming vocabulary from reviews dataframe"
   ]
  },
  {
   "cell_type": "code",
   "execution_count": 9,
   "metadata": {},
   "outputs": [],
   "source": [
    "total_text = []"
   ]
  },
  {
   "cell_type": "code",
   "execution_count": 10,
   "metadata": {},
   "outputs": [],
   "source": [
    "def vocab(text):\n",
    "    for s in text['Review']:\n",
    "        punc_list = set(string.punctuation)\n",
    "        s = ''.join(c for c in s if c not in punc_list)\n",
    "        words = [w for w in s.split()]\n",
    "        total_text.append(words)"
   ]
  },
  {
   "cell_type": "code",
   "execution_count": 11,
   "metadata": {},
   "outputs": [],
   "source": [
    "vocab(p_data)\n",
    "vocab(n_data)"
   ]
  },
  {
   "cell_type": "code",
   "execution_count": 12,
   "metadata": {},
   "outputs": [
    {
     "name": "stdout",
     "output_type": "stream",
     "text": [
      "Vocal Size:  10662\n"
     ]
    }
   ],
   "source": [
    "print('Vocal Size: ', len(total_text))"
   ]
  },
  {
   "cell_type": "code",
   "execution_count": 13,
   "metadata": {},
   "outputs": [],
   "source": [
    "tokenizer = Tokenizer()\n",
    "tokenizer.fit_on_texts(total_text)\n",
    "word_index = tokenizer.word_index"
   ]
  },
  {
   "cell_type": "code",
   "execution_count": 14,
   "metadata": {
    "scrolled": false
   },
   "outputs": [],
   "source": [
    "# word_index"
   ]
  },
  {
   "cell_type": "code",
   "execution_count": 15,
   "metadata": {},
   "outputs": [
    {
     "data": {
      "text/plain": [
       "1.0"
      ]
     },
     "execution_count": 15,
     "metadata": {},
     "output_type": "execute_result"
    }
   ],
   "source": [
    "len(reviews.Label[reviews.Label==0]) / len(reviews.Label[reviews.Label==1]) # checking for class balance"
   ]
  },
  {
   "cell_type": "markdown",
   "metadata": {},
   "source": [
    "##### Splitting total data into train and test sets with test set size to be 20% of total data. Stratifying y labels to ensure that the split is class-balanced."
   ]
  },
  {
   "cell_type": "code",
   "execution_count": 16,
   "metadata": {},
   "outputs": [],
   "source": [
    "X_train, X_test, y_train, y_test = train_test_split(reviews.Review, reviews.Label, test_size=0.20015, random_state=1, stratify= reviews.Label)"
   ]
  },
  {
   "cell_type": "markdown",
   "metadata": {},
   "source": [
    "###### Now, splitting the train data into train and dev sets with dev set size to be 20% of total data which is 25% of the previous train data."
   ]
  },
  {
   "cell_type": "code",
   "execution_count": 17,
   "metadata": {},
   "outputs": [],
   "source": [
    "X_train, X_val, y_train, y_val = train_test_split(X_train, y_train, test_size=0.25, random_state=1, stratify= y_train)"
   ]
  },
  {
   "cell_type": "markdown",
   "metadata": {},
   "source": [
    "##### Adjusted train test split a bit because 20% of total data is an odd number which was causing class imbalances."
   ]
  },
  {
   "cell_type": "code",
   "execution_count": 18,
   "metadata": {},
   "outputs": [
    {
     "data": {
      "text/plain": [
       "6396"
      ]
     },
     "execution_count": 18,
     "metadata": {},
     "output_type": "execute_result"
    }
   ],
   "source": [
    "len(y_train)"
   ]
  },
  {
   "cell_type": "code",
   "execution_count": 19,
   "metadata": {},
   "outputs": [
    {
     "data": {
      "text/plain": [
       "2134"
      ]
     },
     "execution_count": 19,
     "metadata": {},
     "output_type": "execute_result"
    }
   ],
   "source": [
    "len(y_test)"
   ]
  },
  {
   "cell_type": "code",
   "execution_count": 20,
   "metadata": {},
   "outputs": [
    {
     "data": {
      "text/plain": [
       "2132"
      ]
     },
     "execution_count": 20,
     "metadata": {},
     "output_type": "execute_result"
    }
   ],
   "source": [
    "len(y_val)"
   ]
  },
  {
   "cell_type": "markdown",
   "metadata": {},
   "source": [
    "##### Checking class balance in train, test and dev sets after splitting"
   ]
  },
  {
   "cell_type": "code",
   "execution_count": 21,
   "metadata": {},
   "outputs": [],
   "source": [
    "df = pd.DataFrame(y_train, columns=['Label'])"
   ]
  },
  {
   "cell_type": "code",
   "execution_count": 22,
   "metadata": {},
   "outputs": [
    {
     "data": {
      "text/plain": [
       "1.0"
      ]
     },
     "execution_count": 22,
     "metadata": {},
     "output_type": "execute_result"
    }
   ],
   "source": [
    "len(df.Label[df.Label==0]) / len(df.Label[df.Label==1])"
   ]
  },
  {
   "cell_type": "code",
   "execution_count": 23,
   "metadata": {},
   "outputs": [],
   "source": [
    "df1 = pd.DataFrame(y_test, columns=['Label'])"
   ]
  },
  {
   "cell_type": "code",
   "execution_count": 24,
   "metadata": {},
   "outputs": [
    {
     "data": {
      "text/plain": [
       "1.0"
      ]
     },
     "execution_count": 24,
     "metadata": {},
     "output_type": "execute_result"
    }
   ],
   "source": [
    "len(df1.Label[df1.Label==0]) / len(df1.Label[df1.Label==1])"
   ]
  },
  {
   "cell_type": "code",
   "execution_count": 242,
   "metadata": {},
   "outputs": [],
   "source": [
    "df2 = pd.DataFrame(y_val, columns=['Label'])"
   ]
  },
  {
   "cell_type": "code",
   "execution_count": 243,
   "metadata": {},
   "outputs": [
    {
     "data": {
      "text/plain": [
       "1.0"
      ]
     },
     "execution_count": 243,
     "metadata": {},
     "output_type": "execute_result"
    }
   ],
   "source": [
    "len(df2.Label[df2.Label==0]) / len(df2.Label[df2.Label==1])"
   ]
  },
  {
   "cell_type": "code",
   "execution_count": 244,
   "metadata": {},
   "outputs": [],
   "source": [
    "sequence_length = 48"
   ]
  },
  {
   "cell_type": "code",
   "execution_count": 245,
   "metadata": {},
   "outputs": [],
   "source": [
    "X_train_sequence = tokenizer.texts_to_sequences(X_train) \n",
    "X_val_sequence = tokenizer.texts_to_sequences(X_val) \n",
    "X_test_sequence = tokenizer.texts_to_sequences(X_test)"
   ]
  },
  {
   "cell_type": "code",
   "execution_count": 246,
   "metadata": {},
   "outputs": [],
   "source": [
    "# padding to sequence length\n",
    "X_train_pad = pad_sequences(X_train_sequence, maxlen=sequence_length)\n",
    "X_val_pad = pad_sequences(X_val_sequence, maxlen=sequence_length)\n",
    "X_test_pad = pad_sequences(X_test_sequence, maxlen=sequence_length)"
   ]
  },
  {
   "cell_type": "code",
   "execution_count": 28,
   "metadata": {},
   "outputs": [],
   "source": [
    "# X_train_pad[0]"
   ]
  },
  {
   "cell_type": "markdown",
   "metadata": {},
   "source": [
    "#### Word Embeddings"
   ]
  },
  {
   "cell_type": "code",
   "execution_count": 29,
   "metadata": {},
   "outputs": [],
   "source": [
    "def get_embeddings(wordvector_dimension):\n",
    "    embeddings_dict = {}\n",
    "    with open(\"glove.6B/glove.6B.\" + str(wordvector_dimension) + \"d.txt\", \"rt\", encoding=\"utf-8\") as embed_file:\n",
    "        for line in embed_file:\n",
    "            values = line.split()\n",
    "            word = values[0]\n",
    "            coefs = np.asarray(values[1:], dtype='float32')\n",
    "            embeddings_dict[word] = coefs\n",
    "    return embeddings_dict"
   ]
  },
  {
   "cell_type": "code",
   "execution_count": 30,
   "metadata": {},
   "outputs": [],
   "source": [
    "def get_embedding_matrix(vocab_size, word_index, wordvector_dimension):\n",
    "    embeddings_dict = get_embeddings(wordvector_dimension)\n",
    "    embedding_matrix = np.zeros((vocab_size, wordvector_dimension))\n",
    "    for word, i in word_index.items():\n",
    "        embedding_vector = embeddings_dict.get(word)\n",
    "        if embedding_vector is not None:\n",
    "            embedding_matrix[i] = embedding_vector\n",
    "    return embedding_matrix"
   ]
  },
  {
   "cell_type": "markdown",
   "metadata": {},
   "source": [
    "#### Model definitions"
   ]
  },
  {
   "cell_type": "code",
   "execution_count": 31,
   "metadata": {},
   "outputs": [],
   "source": [
    "def my_rnn(vocab_size, word_index, wordvector_dimension, learning_rate, hidden_units, sequence_length):\n",
    "    model = Sequential()\n",
    "    embedding_matrix = get_embedding_matrix(vocab_size, word_index, wordvector_dimension)\n",
    "    model.add(Embedding(vocab_size, wordvector_dimension, \n",
    "                        weights = [embedding_matrix], \n",
    "                        input_length= sequence_length, \n",
    "                        trainable= False, mask_zero= True))\n",
    "    model.add(SimpleRNN(units= hidden_units, input_shape= [None, sequence_length], return_sequences= False))\n",
    "    model.add(Dense(1, activation= 'sigmoid'))\n",
    "    adam = tf.keras.optimizers.Adam(lr= learning_rate)\n",
    "    model.compile(loss= 'binary_crossentropy', optimizer= adam, metrics= ['accuracy'])\n",
    "    print(model.summary())\n",
    "    return model"
   ]
  },
  {
   "cell_type": "code",
   "execution_count": 32,
   "metadata": {},
   "outputs": [],
   "source": [
    "def my_lstm(vocab_size, word_index, wordvector_dimension, learning_rate, hidden_units, sequence_length):\n",
    "    model = Sequential()\n",
    "    embedding_matrix = get_embedding_matrix(vocab_size, word_index, wordvector_dimension)\n",
    "    model.add(Embedding(vocab_size, wordvector_dimension, \n",
    "                        weights = [embedding_matrix], \n",
    "                        input_length= sequence_length, \n",
    "                        trainable= False, mask_zero= True))\n",
    "    model.add(LSTM(units= hidden_units, input_shape= [None, sequence_length], return_sequences= False))\n",
    "    model.add(Dense(1, activation= 'sigmoid'))\n",
    "    adam = tf.keras.optimizers.Adam(lr= learning_rate)\n",
    "    model.compile(loss= 'binary_crossentropy', optimizer= adam, metrics= ['accuracy'])\n",
    "    print(model.summary())\n",
    "    return model"
   ]
  },
  {
   "cell_type": "code",
   "execution_count": 33,
   "metadata": {},
   "outputs": [],
   "source": [
    "def my_gru(vocab_size, word_index, wordvector_dimension, learning_rate, hidden_units, sequence_length):\n",
    "    model = Sequential()\n",
    "    embedding_matrix = get_embedding_matrix(vocab_size, word_index, wordvector_dimension)\n",
    "    model.add(Embedding(vocab_size, wordvector_dimension, \n",
    "                        weights = [embedding_matrix], \n",
    "                        input_length= sequence_length, \n",
    "                        trainable= False, mask_zero= True))\n",
    "    model.add(GRU(units= hidden_units, input_shape= [None, sequence_length], return_sequences= False))\n",
    "    model.add(Dense(1, activation= 'sigmoid'))\n",
    "    adam = tf.keras.optimizers.Adam(lr= learning_rate)\n",
    "    model.compile(loss= 'binary_crossentropy', optimizer= adam, metrics= ['accuracy'])\n",
    "    print(model.summary())\n",
    "    return model"
   ]
  },
  {
   "cell_type": "code",
   "execution_count": 34,
   "metadata": {},
   "outputs": [],
   "source": [
    "# Plotting accuracy vs loss\n",
    "def plot_loss_acc(history):\n",
    "    hist = pd.DataFrame(history.history)\n",
    "    hist['epoch'] = history.epoch\n",
    "    plt.figure()\n",
    "    plt.xlabel('Epoch')\n",
    "    plt.ylabel('Accuracy')\n",
    "    plt.plot(hist['epoch'], hist['accuracy'] * 100, label = 'Train Accuracy')\n",
    "    plt.plot(hist['epoch'], hist['val_accuracy']*100, label = 'Validation Accuracy')\n",
    "    plt.ylim([0, 100])\n",
    "    plt.legend()\n",
    "    \n",
    "    plt.figure()\n",
    "    plt.xlabel('Epoch')\n",
    "    plt.ylabel('Loss')\n",
    "    plt.plot(hist['epoch'], hist['loss'], label = 'Train Loss')\n",
    "    plt.plot(hist['epoch'], hist['val_loss'], label = 'Validation Loss')\n",
    "    plt.ylim([0, 1])\n",
    "    plt.legend()\n",
    "    plt.show()"
   ]
  },
  {
   "cell_type": "code",
   "execution_count": 122,
   "metadata": {},
   "outputs": [],
   "source": [
    "# setting parameters for models\n",
    "learning_rate = 0.001\n",
    "hidden_units = 36\n",
    "vocab_size = len(word_index) + 1"
   ]
  },
  {
   "cell_type": "code",
   "execution_count": 123,
   "metadata": {},
   "outputs": [
    {
     "name": "stdout",
     "output_type": "stream",
     "text": [
      "Model: \"sequential_24\"\n",
      "_________________________________________________________________\n",
      "Layer (type)                 Output Shape              Param #   \n",
      "=================================================================\n",
      "embedding_24 (Embedding)     (None, 48, 300)           6065700   \n",
      "_________________________________________________________________\n",
      "simple_rnn_10 (SimpleRNN)    (None, 36)                12132     \n",
      "_________________________________________________________________\n",
      "dense_24 (Dense)             (None, 1)                 37        \n",
      "=================================================================\n",
      "Total params: 6,077,869\n",
      "Trainable params: 12,169\n",
      "Non-trainable params: 6,065,700\n",
      "_________________________________________________________________\n",
      "None\n"
     ]
    }
   ],
   "source": [
    "rnnmodel = my_rnn(vocab_size, word_index, 300, learning_rate, \n",
    "                     hidden_units, sequence_length)"
   ]
  },
  {
   "cell_type": "code",
   "execution_count": 124,
   "metadata": {},
   "outputs": [
    {
     "name": "stdout",
     "output_type": "stream",
     "text": [
      "Train on 6396 samples, validate on 2132 samples\n",
      "Epoch 1/5\n",
      "6396/6396 [==============================] - 2s 253us/step - loss: 0.6797 - accuracy: 0.5679 - val_loss: 0.6531 - val_accuracy: 0.6177\n",
      "Epoch 2/5\n",
      "6396/6396 [==============================] - 1s 203us/step - loss: 0.5876 - accuracy: 0.6896 - val_loss: 0.5726 - val_accuracy: 0.7125\n",
      "Epoch 3/5\n",
      "6396/6396 [==============================] - 1s 202us/step - loss: 0.5175 - accuracy: 0.7473 - val_loss: 0.5455 - val_accuracy: 0.7247\n",
      "Epoch 4/5\n",
      "6396/6396 [==============================] - 1s 202us/step - loss: 0.4880 - accuracy: 0.7656 - val_loss: 0.5352 - val_accuracy: 0.7228\n",
      "Epoch 5/5\n",
      "6396/6396 [==============================] - 1s 205us/step - loss: 0.4658 - accuracy: 0.7763 - val_loss: 0.5302 - val_accuracy: 0.7336\n"
     ]
    }
   ],
   "source": [
    "rnn_hist = rnnmodel.fit(np.array(X_train_pad), np.array(y_train), \n",
    "                           epochs= 5, batch_size= 300, \n",
    "                           validation_data=(np.array(X_val_pad), np.array(y_val)))"
   ]
  },
  {
   "cell_type": "code",
   "execution_count": 125,
   "metadata": {},
   "outputs": [
    {
     "data": {
      "image/png": "[encoded data removed]",
      "text/plain": [
       "<Figure size 432x288 with 1 Axes>"
      ]
     },
     "metadata": {
      "needs_background": "light"
     },
     "output_type": "display_data"
    },
    {
     "data": {
      "image/png": "[encoded data removed]",
      "text/plain": [
       "<Figure size 432x288 with 1 Axes>"
      ]
     },
     "metadata": {
      "needs_background": "light"
     },
     "output_type": "display_data"
    }
   ],
   "source": [
    "plot_loss_acc(rnn_hist)"
   ]
  },
  {
   "cell_type": "markdown",
   "metadata": {},
   "source": [
    "#### After experimenting various values for parameters for Vanilla RNN, it was observed that model performed better with 36 hidden units and sequence length of 48 giving training accuracy of ~77.5 and a loss of 0.53."
   ]
  },
  {
   "cell_type": "code",
   "execution_count": 132,
   "metadata": {},
   "outputs": [
    {
     "name": "stdout",
     "output_type": "stream",
     "text": [
      "Model: \"sequential_27\"\n",
      "_________________________________________________________________\n",
      "Layer (type)                 Output Shape              Param #   \n",
      "=================================================================\n",
      "embedding_27 (Embedding)     (None, 48, 300)           6065700   \n",
      "_________________________________________________________________\n",
      "lstm_9 (LSTM)                (None, 36)                48528     \n",
      "_________________________________________________________________\n",
      "dense_27 (Dense)             (None, 1)                 37        \n",
      "=================================================================\n",
      "Total params: 6,114,265\n",
      "Trainable params: 48,565\n",
      "Non-trainable params: 6,065,700\n",
      "_________________________________________________________________\n",
      "None\n"
     ]
    }
   ],
   "source": [
    "lstmmodel = my_lstm(vocab_size, word_index, 300, learning_rate, \n",
    "                     hidden_units, sequence_length)"
   ]
  },
  {
   "cell_type": "code",
   "execution_count": 133,
   "metadata": {},
   "outputs": [
    {
     "name": "stdout",
     "output_type": "stream",
     "text": [
      "Train on 6396 samples, validate on 2132 samples\n",
      "Epoch 1/5\n",
      "6396/6396 [==============================] - 3s 442us/step - loss: 0.6617 - accuracy: 0.6176 - val_loss: 0.6198 - val_accuracy: 0.6750\n",
      "Epoch 2/5\n",
      "6396/6396 [==============================] - 2s 355us/step - loss: 0.5521 - accuracy: 0.7297 - val_loss: 0.5394 - val_accuracy: 0.7247\n",
      "Epoch 3/5\n",
      "6396/6396 [==============================] - 3s 398us/step - loss: 0.4880 - accuracy: 0.7711 - val_loss: 0.5140 - val_accuracy: 0.7312\n",
      "Epoch 4/5\n",
      "6396/6396 [==============================] - 3s 412us/step - loss: 0.4591 - accuracy: 0.7830 - val_loss: 0.5067 - val_accuracy: 0.7453\n",
      "Epoch 5/5\n",
      "6396/6396 [==============================] - 2s 379us/step - loss: 0.4461 - accuracy: 0.7907 - val_loss: 0.5302 - val_accuracy: 0.7303\n"
     ]
    }
   ],
   "source": [
    "lstm_hist = lstmmodel.fit(np.array(X_train_pad), np.array(y_train), \n",
    "                           epochs= 5, batch_size= 300, \n",
    "                           validation_data=(np.array(X_val_pad), np.array(y_val)))"
   ]
  },
  {
   "cell_type": "code",
   "execution_count": 134,
   "metadata": {},
   "outputs": [
    {
     "data": {
      "image/png": "[encoded data removed]",
      "text/plain": [
       "<Figure size 432x288 with 1 Axes>"
      ]
     },
     "metadata": {
      "needs_background": "light"
     },
     "output_type": "display_data"
    },
    {
     "data": {
      "image/png": "[encoded data removed]",
      "text/plain": [
       "<Figure size 432x288 with 1 Axes>"
      ]
     },
     "metadata": {
      "needs_background": "light"
     },
     "output_type": "display_data"
    }
   ],
   "source": [
    "plot_loss_acc(lstm_hist)"
   ]
  },
  {
   "cell_type": "code",
   "execution_count": 135,
   "metadata": {},
   "outputs": [
    {
     "name": "stdout",
     "output_type": "stream",
     "text": [
      "Model: \"sequential_28\"\n",
      "_________________________________________________________________\n",
      "Layer (type)                 Output Shape              Param #   \n",
      "=================================================================\n",
      "embedding_28 (Embedding)     (None, 48, 300)           6065700   \n",
      "_________________________________________________________________\n",
      "gru_9 (GRU)                  (None, 36)                36396     \n",
      "_________________________________________________________________\n",
      "dense_28 (Dense)             (None, 1)                 37        \n",
      "=================================================================\n",
      "Total params: 6,102,133\n",
      "Trainable params: 36,433\n",
      "Non-trainable params: 6,065,700\n",
      "_________________________________________________________________\n",
      "None\n"
     ]
    }
   ],
   "source": [
    "grumodel = my_gru(vocab_size, word_index, 300, learning_rate, \n",
    "                     hidden_units, sequence_length)"
   ]
  },
  {
   "cell_type": "code",
   "execution_count": 136,
   "metadata": {},
   "outputs": [
    {
     "name": "stdout",
     "output_type": "stream",
     "text": [
      "Train on 6396 samples, validate on 2132 samples\n",
      "Epoch 1/5\n",
      "6396/6396 [==============================] - 3s 500us/step - loss: 0.6664 - accuracy: 0.5937 - val_loss: 0.6437 - val_accuracy: 0.6309\n",
      "Epoch 2/5\n",
      "6396/6396 [==============================] - 3s 443us/step - loss: 0.6001 - accuracy: 0.6779 - val_loss: 0.5925 - val_accuracy: 0.6857\n",
      "Epoch 3/5\n",
      "6396/6396 [==============================] - 2s 370us/step - loss: 0.5131 - accuracy: 0.7533 - val_loss: 0.5306 - val_accuracy: 0.7420\n",
      "Epoch 4/5\n",
      "6396/6396 [==============================] - 2s 351us/step - loss: 0.4666 - accuracy: 0.7806 - val_loss: 0.5144 - val_accuracy: 0.7439\n",
      "Epoch 5/5\n",
      "6396/6396 [==============================] - 2s 346us/step - loss: 0.4407 - accuracy: 0.7924 - val_loss: 0.5095 - val_accuracy: 0.7519\n"
     ]
    }
   ],
   "source": [
    "gru_hist = grumodel.fit(np.array(X_train_pad), np.array(y_train), \n",
    "                           epochs= 5, batch_size= 300, \n",
    "                           validation_data=(np.array(X_val_pad), np.array(y_val)))"
   ]
  },
  {
   "cell_type": "code",
   "execution_count": 137,
   "metadata": {
    "scrolled": true
   },
   "outputs": [
    {
     "data": {
      "image/png": "[encoded data removed]",
      "text/plain": [
       "<Figure size 432x288 with 1 Axes>"
      ]
     },
     "metadata": {
      "needs_background": "light"
     },
     "output_type": "display_data"
    },
    {
     "data": {
      "image/png": "[encoded data removed]",
      "text/plain": [
       "<Figure size 432x288 with 1 Axes>"
      ]
     },
     "metadata": {
      "needs_background": "light"
     },
     "output_type": "display_data"
    }
   ],
   "source": [
    "plot_loss_acc(gru_hist)"
   ]
  },
  {
   "cell_type": "markdown",
   "metadata": {},
   "source": [
    "#### We could observe that, GRU gives better accuracy of ~79% when compared to vanilla RNN and LSTM with 36 hidden units and sequence length of 48"
   ]
  },
  {
   "cell_type": "markdown",
   "metadata": {},
   "source": [
    "# Experimenting with Network structure"
   ]
  },
  {
   "cell_type": "markdown",
   "metadata": {},
   "source": [
    "## Doubling the number of hidden units"
   ]
  },
  {
   "cell_type": "code",
   "execution_count": 45,
   "metadata": {},
   "outputs": [],
   "source": [
    "hidden_units = 72"
   ]
  },
  {
   "cell_type": "code",
   "execution_count": 46,
   "metadata": {},
   "outputs": [
    {
     "name": "stdout",
     "output_type": "stream",
     "text": [
      "Model: \"sequential_4\"\n",
      "_________________________________________________________________\n",
      "Layer (type)                 Output Shape              Param #   \n",
      "=================================================================\n",
      "embedding_4 (Embedding)      (None, 48, 300)           6065700   \n",
      "_________________________________________________________________\n",
      "simple_rnn_2 (SimpleRNN)     (None, 72)                26856     \n",
      "_________________________________________________________________\n",
      "dense_4 (Dense)              (None, 1)                 73        \n",
      "=================================================================\n",
      "Total params: 6,092,629\n",
      "Trainable params: 26,929\n",
      "Non-trainable params: 6,065,700\n",
      "_________________________________________________________________\n",
      "None\n"
     ]
    }
   ],
   "source": [
    "rnnmodel = my_rnn(vocab_size, word_index, 300, learning_rate, \n",
    "                     hidden_units, sequence_length)"
   ]
  },
  {
   "cell_type": "code",
   "execution_count": 47,
   "metadata": {},
   "outputs": [
    {
     "name": "stdout",
     "output_type": "stream",
     "text": [
      "Train on 6396 samples, validate on 2132 samples\n",
      "Epoch 1/5\n",
      "6396/6396 [==============================] - 2s 295us/step - loss: 0.6826 - accuracy: 0.5750 - val_loss: 0.6316 - val_accuracy: 0.6327\n",
      "Epoch 2/5\n",
      "6396/6396 [==============================] - 2s 242us/step - loss: 0.5502 - accuracy: 0.7165 - val_loss: 0.5647 - val_accuracy: 0.7078\n",
      "Epoch 3/5\n",
      "6396/6396 [==============================] - 2s 241us/step - loss: 0.4859 - accuracy: 0.7661 - val_loss: 0.5546 - val_accuracy: 0.7181\n",
      "Epoch 4/5\n",
      "6396/6396 [==============================] - 2s 243us/step - loss: 0.4517 - accuracy: 0.7908 - val_loss: 0.5429 - val_accuracy: 0.7350\n",
      "Epoch 5/5\n",
      "6396/6396 [==============================] - 2s 244us/step - loss: 0.4461 - accuracy: 0.7917 - val_loss: 0.5689 - val_accuracy: 0.7106\n"
     ]
    }
   ],
   "source": [
    "rnn_hist = rnnmodel.fit(np.array(X_train_pad), np.array(y_train), \n",
    "                           epochs= 5, batch_size= 300, \n",
    "                           validation_data=(np.array(X_val_pad), np.array(y_val)))"
   ]
  },
  {
   "cell_type": "code",
   "execution_count": 48,
   "metadata": {},
   "outputs": [
    {
     "data": {
      "image/png": "[encoded data removed]",
      "text/plain": [
       "<Figure size 432x288 with 1 Axes>"
      ]
     },
     "metadata": {
      "needs_background": "light"
     },
     "output_type": "display_data"
    },
    {
     "data": {
      "image/png": "[encoded data removed]",
      "text/plain": [
       "<Figure size 432x288 with 1 Axes>"
      ]
     },
     "metadata": {
      "needs_background": "light"
     },
     "output_type": "display_data"
    }
   ],
   "source": [
    "plot_loss_acc(rnn_hist)"
   ]
  },
  {
   "cell_type": "code",
   "execution_count": 49,
   "metadata": {},
   "outputs": [
    {
     "name": "stdout",
     "output_type": "stream",
     "text": [
      "Model: \"sequential_5\"\n",
      "_________________________________________________________________\n",
      "Layer (type)                 Output Shape              Param #   \n",
      "=================================================================\n",
      "embedding_5 (Embedding)      (None, 48, 300)           6065700   \n",
      "_________________________________________________________________\n",
      "lstm_2 (LSTM)                (None, 72)                107424    \n",
      "_________________________________________________________________\n",
      "dense_5 (Dense)              (None, 1)                 73        \n",
      "=================================================================\n",
      "Total params: 6,173,197\n",
      "Trainable params: 107,497\n",
      "Non-trainable params: 6,065,700\n",
      "_________________________________________________________________\n",
      "None\n"
     ]
    }
   ],
   "source": [
    "lstmmodel = my_lstm(vocab_size, word_index, 300, learning_rate, \n",
    "                     hidden_units, sequence_length)"
   ]
  },
  {
   "cell_type": "code",
   "execution_count": 50,
   "metadata": {},
   "outputs": [
    {
     "name": "stdout",
     "output_type": "stream",
     "text": [
      "Train on 6396 samples, validate on 2132 samples\n",
      "Epoch 1/5\n",
      "6396/6396 [==============================] - 4s 567us/step - loss: 0.6282 - accuracy: 0.6557 - val_loss: 0.5619 - val_accuracy: 0.7270\n",
      "Epoch 2/5\n",
      "6396/6396 [==============================] - 3s 493us/step - loss: 0.5120 - accuracy: 0.7534 - val_loss: 0.5265 - val_accuracy: 0.7331\n",
      "Epoch 3/5\n",
      "6396/6396 [==============================] - 3s 495us/step - loss: 0.4703 - accuracy: 0.7730 - val_loss: 0.5282 - val_accuracy: 0.7383\n",
      "Epoch 4/5\n",
      "6396/6396 [==============================] - 3s 495us/step - loss: 0.4560 - accuracy: 0.7838 - val_loss: 0.5070 - val_accuracy: 0.7514\n",
      "Epoch 5/5\n",
      "6396/6396 [==============================] - 3s 491us/step - loss: 0.4245 - accuracy: 0.8005 - val_loss: 0.5111 - val_accuracy: 0.7519\n"
     ]
    }
   ],
   "source": [
    "lstm_hist = lstmmodel.fit(np.array(X_train_pad), np.array(y_train), \n",
    "                           epochs= 5, batch_size= 300, \n",
    "                           validation_data=(np.array(X_val_pad), np.array(y_val)))"
   ]
  },
  {
   "cell_type": "code",
   "execution_count": 51,
   "metadata": {},
   "outputs": [
    {
     "data": {
      "image/png": "[encoded data removed]",
      "text/plain": [
       "<Figure size 432x288 with 1 Axes>"
      ]
     },
     "metadata": {
      "needs_background": "light"
     },
     "output_type": "display_data"
    },
    {
     "data": {
      "image/png": "[encoded data removed]",
      "text/plain": [
       "<Figure size 432x288 with 1 Axes>"
      ]
     },
     "metadata": {
      "needs_background": "light"
     },
     "output_type": "display_data"
    }
   ],
   "source": [
    "plot_loss_acc(lstm_hist)"
   ]
  },
  {
   "cell_type": "code",
   "execution_count": 52,
   "metadata": {},
   "outputs": [
    {
     "name": "stdout",
     "output_type": "stream",
     "text": [
      "Model: \"sequential_6\"\n",
      "_________________________________________________________________\n",
      "Layer (type)                 Output Shape              Param #   \n",
      "=================================================================\n",
      "embedding_6 (Embedding)      (None, 48, 300)           6065700   \n",
      "_________________________________________________________________\n",
      "gru_2 (GRU)                  (None, 72)                80568     \n",
      "_________________________________________________________________\n",
      "dense_6 (Dense)              (None, 1)                 73        \n",
      "=================================================================\n",
      "Total params: 6,146,341\n",
      "Trainable params: 80,641\n",
      "Non-trainable params: 6,065,700\n",
      "_________________________________________________________________\n",
      "None\n"
     ]
    }
   ],
   "source": [
    "grumodel = my_gru(vocab_size, word_index, 300, learning_rate, \n",
    "                     hidden_units, sequence_length)"
   ]
  },
  {
   "cell_type": "code",
   "execution_count": 53,
   "metadata": {},
   "outputs": [
    {
     "name": "stdout",
     "output_type": "stream",
     "text": [
      "Train on 6396 samples, validate on 2132 samples\n",
      "Epoch 1/5\n",
      "6396/6396 [==============================] - 3s 545us/step - loss: 0.6585 - accuracy: 0.6026 - val_loss: 0.6250 - val_accuracy: 0.6501\n",
      "Epoch 2/5\n",
      "6396/6396 [==============================] - 3s 463us/step - loss: 0.5590 - accuracy: 0.7139 - val_loss: 0.5533 - val_accuracy: 0.7317\n",
      "Epoch 3/5\n",
      "6396/6396 [==============================] - 3s 467us/step - loss: 0.4867 - accuracy: 0.7702 - val_loss: 0.5139 - val_accuracy: 0.7495\n",
      "Epoch 4/5\n",
      "6396/6396 [==============================] - 3s 477us/step - loss: 0.4556 - accuracy: 0.7894 - val_loss: 0.5069 - val_accuracy: 0.7514\n",
      "Epoch 5/5\n",
      "6396/6396 [==============================] - 3s 461us/step - loss: 0.4308 - accuracy: 0.8010 - val_loss: 0.5034 - val_accuracy: 0.7533\n"
     ]
    }
   ],
   "source": [
    "gru_hist = grumodel.fit(np.array(X_train_pad), np.array(y_train), \n",
    "                           epochs= 5, batch_size= 300, \n",
    "                           validation_data=(np.array(X_val_pad), np.array(y_val)))"
   ]
  },
  {
   "cell_type": "code",
   "execution_count": 54,
   "metadata": {},
   "outputs": [
    {
     "data": {
      "image/png": "[encoded data removed]",
      "text/plain": [
       "<Figure size 432x288 with 1 Axes>"
      ]
     },
     "metadata": {
      "needs_background": "light"
     },
     "output_type": "display_data"
    },
    {
     "data": {
      "image/png": "[encoded data removed]",
      "text/plain": [
       "<Figure size 432x288 with 1 Axes>"
      ]
     },
     "metadata": {
      "needs_background": "light"
     },
     "output_type": "display_data"
    }
   ],
   "source": [
    "plot_loss_acc(gru_hist)"
   ]
  },
  {
   "cell_type": "markdown",
   "metadata": {},
   "source": [
    "## Halving the number of hidden units"
   ]
  },
  {
   "cell_type": "code",
   "execution_count": 55,
   "metadata": {},
   "outputs": [],
   "source": [
    "hidden_units = 18"
   ]
  },
  {
   "cell_type": "code",
   "execution_count": 56,
   "metadata": {},
   "outputs": [
    {
     "name": "stdout",
     "output_type": "stream",
     "text": [
      "Model: \"sequential_7\"\n",
      "_________________________________________________________________\n",
      "Layer (type)                 Output Shape              Param #   \n",
      "=================================================================\n",
      "embedding_7 (Embedding)      (None, 48, 300)           6065700   \n",
      "_________________________________________________________________\n",
      "simple_rnn_3 (SimpleRNN)     (None, 18)                5742      \n",
      "_________________________________________________________________\n",
      "dense_7 (Dense)              (None, 1)                 19        \n",
      "=================================================================\n",
      "Total params: 6,071,461\n",
      "Trainable params: 5,761\n",
      "Non-trainable params: 6,065,700\n",
      "_________________________________________________________________\n",
      "None\n"
     ]
    }
   ],
   "source": [
    "rnnmodel = my_rnn(vocab_size, word_index, 300, learning_rate, \n",
    "                     hidden_units, sequence_length)"
   ]
  },
  {
   "cell_type": "code",
   "execution_count": 57,
   "metadata": {},
   "outputs": [
    {
     "name": "stdout",
     "output_type": "stream",
     "text": [
      "Train on 6396 samples, validate on 2132 samples\n",
      "Epoch 1/5\n",
      "6396/6396 [==============================] - 1s 222us/step - loss: 0.7187 - accuracy: 0.5305 - val_loss: 0.6855 - val_accuracy: 0.5736\n",
      "Epoch 2/5\n",
      "6396/6396 [==============================] - 1s 173us/step - loss: 0.6569 - accuracy: 0.6087 - val_loss: 0.6561 - val_accuracy: 0.6008\n",
      "Epoch 3/5\n",
      "6396/6396 [==============================] - 1s 174us/step - loss: 0.6136 - accuracy: 0.6637 - val_loss: 0.6149 - val_accuracy: 0.6656\n",
      "Epoch 4/5\n",
      "6396/6396 [==============================] - 1s 176us/step - loss: 0.5502 - accuracy: 0.7244 - val_loss: 0.5675 - val_accuracy: 0.7172\n",
      "Epoch 5/5\n",
      "6396/6396 [==============================] - 1s 174us/step - loss: 0.5092 - accuracy: 0.7538 - val_loss: 0.5615 - val_accuracy: 0.7223\n"
     ]
    }
   ],
   "source": [
    "rnn_hist = rnnmodel.fit(np.array(X_train_pad), np.array(y_train), \n",
    "                           epochs= 5, batch_size= 300, \n",
    "                           validation_data=(np.array(X_val_pad), np.array(y_val)))"
   ]
  },
  {
   "cell_type": "code",
   "execution_count": 58,
   "metadata": {},
   "outputs": [
    {
     "data": {
      "image/png": "[encoded data removed]",
      "text/plain": [
       "<Figure size 432x288 with 1 Axes>"
      ]
     },
     "metadata": {
      "needs_background": "light"
     },
     "output_type": "display_data"
    },
    {
     "data": {
      "image/png": "[encoded data removed]",
      "text/plain": [
       "<Figure size 432x288 with 1 Axes>"
      ]
     },
     "metadata": {
      "needs_background": "light"
     },
     "output_type": "display_data"
    }
   ],
   "source": [
    "plot_loss_acc(rnn_hist)"
   ]
  },
  {
   "cell_type": "code",
   "execution_count": 59,
   "metadata": {},
   "outputs": [
    {
     "name": "stdout",
     "output_type": "stream",
     "text": [
      "Model: \"sequential_8\"\n",
      "_________________________________________________________________\n",
      "Layer (type)                 Output Shape              Param #   \n",
      "=================================================================\n",
      "embedding_8 (Embedding)      (None, 48, 300)           6065700   \n",
      "_________________________________________________________________\n",
      "lstm_3 (LSTM)                (None, 18)                22968     \n",
      "_________________________________________________________________\n",
      "dense_8 (Dense)              (None, 1)                 19        \n",
      "=================================================================\n",
      "Total params: 6,088,687\n",
      "Trainable params: 22,987\n",
      "Non-trainable params: 6,065,700\n",
      "_________________________________________________________________\n",
      "None\n"
     ]
    }
   ],
   "source": [
    "lstmmodel = my_lstm(vocab_size, word_index, 300, learning_rate, \n",
    "                     hidden_units, sequence_length)"
   ]
  },
  {
   "cell_type": "code",
   "execution_count": 60,
   "metadata": {},
   "outputs": [
    {
     "name": "stdout",
     "output_type": "stream",
     "text": [
      "Train on 6396 samples, validate on 2132 samples\n",
      "Epoch 1/5\n",
      "6396/6396 [==============================] - 2s 318us/step - loss: 0.6740 - accuracy: 0.5916 - val_loss: 0.6447 - val_accuracy: 0.6534\n",
      "Epoch 2/5\n",
      "6396/6396 [==============================] - 2s 248us/step - loss: 0.5953 - accuracy: 0.7018 - val_loss: 0.5581 - val_accuracy: 0.7158\n",
      "Epoch 3/5\n",
      "6396/6396 [==============================] - 2s 249us/step - loss: 0.5168 - accuracy: 0.7539 - val_loss: 0.5279 - val_accuracy: 0.7322\n",
      "Epoch 4/5\n",
      "6396/6396 [==============================] - 2s 256us/step - loss: 0.4804 - accuracy: 0.7756 - val_loss: 0.5141 - val_accuracy: 0.7486\n",
      "Epoch 5/5\n",
      "6396/6396 [==============================] - 2s 247us/step - loss: 0.4599 - accuracy: 0.7888 - val_loss: 0.5130 - val_accuracy: 0.7453\n"
     ]
    }
   ],
   "source": [
    "lstm_hist = lstmmodel.fit(np.array(X_train_pad), np.array(y_train), \n",
    "                           epochs= 5, batch_size= 300, \n",
    "                           validation_data=(np.array(X_val_pad), np.array(y_val)))"
   ]
  },
  {
   "cell_type": "code",
   "execution_count": 61,
   "metadata": {},
   "outputs": [
    {
     "data": {
      "image/png": "[encoded data removed]",
      "text/plain": [
       "<Figure size 432x288 with 1 Axes>"
      ]
     },
     "metadata": {
      "needs_background": "light"
     },
     "output_type": "display_data"
    },
    {
     "data": {
      "image/png": "[encoded data removed]",
      "text/plain": [
       "<Figure size 432x288 with 1 Axes>"
      ]
     },
     "metadata": {
      "needs_background": "light"
     },
     "output_type": "display_data"
    }
   ],
   "source": [
    "plot_loss_acc(lstm_hist)"
   ]
  },
  {
   "cell_type": "code",
   "execution_count": 138,
   "metadata": {},
   "outputs": [
    {
     "name": "stdout",
     "output_type": "stream",
     "text": [
      "Model: \"sequential_29\"\n",
      "_________________________________________________________________\n",
      "Layer (type)                 Output Shape              Param #   \n",
      "=================================================================\n",
      "embedding_29 (Embedding)     (None, 48, 300)           6065700   \n",
      "_________________________________________________________________\n",
      "gru_10 (GRU)                 (None, 36)                36396     \n",
      "_________________________________________________________________\n",
      "dense_29 (Dense)             (None, 1)                 37        \n",
      "=================================================================\n",
      "Total params: 6,102,133\n",
      "Trainable params: 36,433\n",
      "Non-trainable params: 6,065,700\n",
      "_________________________________________________________________\n",
      "None\n"
     ]
    }
   ],
   "source": [
    "grumodel = my_gru(vocab_size, word_index, 300, learning_rate, \n",
    "                     hidden_units, sequence_length)"
   ]
  },
  {
   "cell_type": "code",
   "execution_count": 139,
   "metadata": {},
   "outputs": [
    {
     "name": "stdout",
     "output_type": "stream",
     "text": [
      "Train on 6396 samples, validate on 2132 samples\n",
      "Epoch 1/5\n",
      "6396/6396 [==============================] - 3s 402us/step - loss: 0.6631 - accuracy: 0.5946 - val_loss: 0.6383 - val_accuracy: 0.6435\n",
      "Epoch 2/5\n",
      "6396/6396 [==============================] - 2s 331us/step - loss: 0.5933 - accuracy: 0.6859 - val_loss: 0.5841 - val_accuracy: 0.6932\n",
      "Epoch 3/5\n",
      "6396/6396 [==============================] - 2s 326us/step - loss: 0.5036 - accuracy: 0.7545 - val_loss: 0.5215 - val_accuracy: 0.7383\n",
      "Epoch 4/5\n",
      "6396/6396 [==============================] - 2s 329us/step - loss: 0.4598 - accuracy: 0.7844 - val_loss: 0.5230 - val_accuracy: 0.7491\n",
      "Epoch 5/5\n",
      "6396/6396 [==============================] - 2s 325us/step - loss: 0.4458 - accuracy: 0.7936 - val_loss: 0.5149 - val_accuracy: 0.7500\n"
     ]
    }
   ],
   "source": [
    "gru_hist = grumodel.fit(np.array(X_train_pad), np.array(y_train), \n",
    "                           epochs= 5, batch_size= 300, \n",
    "                           validation_data=(np.array(X_val_pad), np.array(y_val)))"
   ]
  },
  {
   "cell_type": "code",
   "execution_count": 140,
   "metadata": {},
   "outputs": [
    {
     "data": {
      "image/png": "[encoded data removed]",
      "text/plain": [
       "<Figure size 432x288 with 1 Axes>"
      ]
     },
     "metadata": {
      "needs_background": "light"
     },
     "output_type": "display_data"
    },
    {
     "data": {
      "image/png": "[encoded data removed]",
      "text/plain": [
       "<Figure size 432x288 with 1 Axes>"
      ]
     },
     "metadata": {
      "needs_background": "light"
     },
     "output_type": "display_data"
    }
   ],
   "source": [
    "plot_loss_acc(gru_hist)"
   ]
  },
  {
   "cell_type": "markdown",
   "metadata": {},
   "source": [
    "### Observations:\n",
    "#### (i) When the number of hidden units were doubled, validation accuracy is greater than training accuracy in the initial epochs but as the epochs increase there is a drop in validation accuracy. This tells that increase in the number of hidden units lead to overfitting.\n",
    "#### (ii) There is a major change in accuracy when number of hidden units were halved which confirms that there was underfitting.\n",
    "#### From above, we can conclude and set the optimal number of hidden units to 36."
   ]
  },
  {
   "cell_type": "markdown",
   "metadata": {},
   "source": [
    "## Doubling the sequence length"
   ]
  },
  {
   "cell_type": "code",
   "execution_count": 65,
   "metadata": {},
   "outputs": [],
   "source": [
    "hidden_units = 36\n",
    "sequence_length = 96"
   ]
  },
  {
   "cell_type": "code",
   "execution_count": 66,
   "metadata": {},
   "outputs": [],
   "source": [
    "X_train_pad = pad_sequences(X_train_sequence, maxlen=sequence_length)\n",
    "X_val_pad = pad_sequences(X_val_sequence, maxlen=sequence_length)\n",
    "X_test_pad = pad_sequences(X_test_sequence, maxlen=sequence_length)"
   ]
  },
  {
   "cell_type": "code",
   "execution_count": 67,
   "metadata": {},
   "outputs": [
    {
     "name": "stdout",
     "output_type": "stream",
     "text": [
      "Model: \"sequential_10\"\n",
      "_________________________________________________________________\n",
      "Layer (type)                 Output Shape              Param #   \n",
      "=================================================================\n",
      "embedding_10 (Embedding)     (None, 96, 300)           6065700   \n",
      "_________________________________________________________________\n",
      "simple_rnn_4 (SimpleRNN)     (None, 36)                12132     \n",
      "_________________________________________________________________\n",
      "dense_10 (Dense)             (None, 1)                 37        \n",
      "=================================================================\n",
      "Total params: 6,077,869\n",
      "Trainable params: 12,169\n",
      "Non-trainable params: 6,065,700\n",
      "_________________________________________________________________\n",
      "None\n"
     ]
    }
   ],
   "source": [
    "rnnmodel = my_rnn(vocab_size, word_index, 300, learning_rate, \n",
    "                     hidden_units, sequence_length)"
   ]
  },
  {
   "cell_type": "code",
   "execution_count": 68,
   "metadata": {},
   "outputs": [
    {
     "name": "stdout",
     "output_type": "stream",
     "text": [
      "Train on 6396 samples, validate on 2132 samples\n",
      "Epoch 1/5\n",
      "6396/6396 [==============================] - 3s 460us/step - loss: 0.7053 - accuracy: 0.5475 - val_loss: 0.6660 - val_accuracy: 0.6023\n",
      "Epoch 2/5\n",
      "6396/6396 [==============================] - 3s 406us/step - loss: 0.6013 - accuracy: 0.6768 - val_loss: 0.6117 - val_accuracy: 0.6740\n",
      "Epoch 3/5\n",
      "6396/6396 [==============================] - 3s 407us/step - loss: 0.5280 - accuracy: 0.7416 - val_loss: 0.5684 - val_accuracy: 0.7078\n",
      "Epoch 4/5\n",
      "6396/6396 [==============================] - 3s 414us/step - loss: 0.4866 - accuracy: 0.7686 - val_loss: 0.5611 - val_accuracy: 0.7134\n",
      "Epoch 5/5\n",
      "6396/6396 [==============================] - 3s 412us/step - loss: 0.4672 - accuracy: 0.7817 - val_loss: 0.5465 - val_accuracy: 0.7237\n"
     ]
    }
   ],
   "source": [
    "rnn_hist = rnnmodel.fit(np.array(X_train_pad), np.array(y_train), \n",
    "                           epochs= 5, batch_size= 300, \n",
    "                           validation_data=(np.array(X_val_pad), np.array(y_val)))"
   ]
  },
  {
   "cell_type": "code",
   "execution_count": 69,
   "metadata": {},
   "outputs": [
    {
     "data": {
      "image/png": "[encoded data removed]",
      "text/plain": [
       "<Figure size 432x288 with 1 Axes>"
      ]
     },
     "metadata": {
      "needs_background": "light"
     },
     "output_type": "display_data"
    },
    {
     "data": {
      "image/png": "[encoded data removed]",
      "text/plain": [
       "<Figure size 432x288 with 1 Axes>"
      ]
     },
     "metadata": {
      "needs_background": "light"
     },
     "output_type": "display_data"
    }
   ],
   "source": [
    "plot_loss_acc(rnn_hist)"
   ]
  },
  {
   "cell_type": "code",
   "execution_count": 70,
   "metadata": {},
   "outputs": [
    {
     "name": "stdout",
     "output_type": "stream",
     "text": [
      "Model: \"sequential_11\"\n",
      "_________________________________________________________________\n",
      "Layer (type)                 Output Shape              Param #   \n",
      "=================================================================\n",
      "embedding_11 (Embedding)     (None, 96, 300)           6065700   \n",
      "_________________________________________________________________\n",
      "lstm_4 (LSTM)                (None, 36)                48528     \n",
      "_________________________________________________________________\n",
      "dense_11 (Dense)             (None, 1)                 37        \n",
      "=================================================================\n",
      "Total params: 6,114,265\n",
      "Trainable params: 48,565\n",
      "Non-trainable params: 6,065,700\n",
      "_________________________________________________________________\n",
      "None\n"
     ]
    }
   ],
   "source": [
    "lstmmodel = my_lstm(vocab_size, word_index, 300, learning_rate, \n",
    "                     hidden_units, sequence_length)"
   ]
  },
  {
   "cell_type": "code",
   "execution_count": 71,
   "metadata": {},
   "outputs": [
    {
     "name": "stdout",
     "output_type": "stream",
     "text": [
      "Train on 6396 samples, validate on 2132 samples\n",
      "Epoch 1/5\n",
      "6396/6396 [==============================] - 5s 821us/step - loss: 0.6600 - accuracy: 0.6146 - val_loss: 0.6224 - val_accuracy: 0.6745\n",
      "Epoch 2/5\n",
      "6396/6396 [==============================] - 5s 776us/step - loss: 0.5591 - accuracy: 0.7256 - val_loss: 0.5413 - val_accuracy: 0.7209\n",
      "Epoch 3/5\n",
      "6396/6396 [==============================] - 5s 820us/step - loss: 0.4937 - accuracy: 0.7647 - val_loss: 0.5156 - val_accuracy: 0.7345\n",
      "Epoch 4/5\n",
      "6396/6396 [==============================] - 5s 806us/step - loss: 0.4628 - accuracy: 0.7827 - val_loss: 0.5075 - val_accuracy: 0.7416\n",
      "Epoch 5/5\n",
      "6396/6396 [==============================] - 5s 794us/step - loss: 0.4416 - accuracy: 0.7949 - val_loss: 0.5084 - val_accuracy: 0.7477\n"
     ]
    }
   ],
   "source": [
    "lstm_hist = lstmmodel.fit(np.array(X_train_pad), np.array(y_train), \n",
    "                           epochs= 5, batch_size= 300, \n",
    "                           validation_data=(np.array(X_val_pad), np.array(y_val)))"
   ]
  },
  {
   "cell_type": "code",
   "execution_count": 72,
   "metadata": {},
   "outputs": [
    {
     "data": {
      "image/png": "[encoded data removed]",
      "text/plain": [
       "<Figure size 432x288 with 1 Axes>"
      ]
     },
     "metadata": {
      "needs_background": "light"
     },
     "output_type": "display_data"
    },
    {
     "data": {
      "image/png": "[encoded data removed]",
      "text/plain": [
       "<Figure size 432x288 with 1 Axes>"
      ]
     },
     "metadata": {
      "needs_background": "light"
     },
     "output_type": "display_data"
    }
   ],
   "source": [
    "plot_loss_acc(lstm_hist)"
   ]
  },
  {
   "cell_type": "code",
   "execution_count": 141,
   "metadata": {},
   "outputs": [
    {
     "name": "stdout",
     "output_type": "stream",
     "text": [
      "Model: \"sequential_30\"\n",
      "_________________________________________________________________\n",
      "Layer (type)                 Output Shape              Param #   \n",
      "=================================================================\n",
      "embedding_30 (Embedding)     (None, 48, 300)           6065700   \n",
      "_________________________________________________________________\n",
      "gru_11 (GRU)                 (None, 36)                36396     \n",
      "_________________________________________________________________\n",
      "dense_30 (Dense)             (None, 1)                 37        \n",
      "=================================================================\n",
      "Total params: 6,102,133\n",
      "Trainable params: 36,433\n",
      "Non-trainable params: 6,065,700\n",
      "_________________________________________________________________\n",
      "None\n"
     ]
    }
   ],
   "source": [
    "grumodel = my_gru(vocab_size, word_index, 300, learning_rate, \n",
    "                     hidden_units, sequence_length)"
   ]
  },
  {
   "cell_type": "code",
   "execution_count": 142,
   "metadata": {},
   "outputs": [
    {
     "name": "stdout",
     "output_type": "stream",
     "text": [
      "Train on 6396 samples, validate on 2132 samples\n",
      "Epoch 1/5\n",
      "6396/6396 [==============================] - 3s 403us/step - loss: 0.6703 - accuracy: 0.5854 - val_loss: 0.6506 - val_accuracy: 0.6220\n",
      "Epoch 2/5\n",
      "6396/6396 [==============================] - 2s 331us/step - loss: 0.6063 - accuracy: 0.6775 - val_loss: 0.6054 - val_accuracy: 0.6707\n",
      "Epoch 3/5\n",
      "6396/6396 [==============================] - 2s 328us/step - loss: 0.5281 - accuracy: 0.7376 - val_loss: 0.5459 - val_accuracy: 0.7214\n",
      "Epoch 4/5\n",
      "6396/6396 [==============================] - 2s 326us/step - loss: 0.4708 - accuracy: 0.7753 - val_loss: 0.5247 - val_accuracy: 0.7326\n",
      "Epoch 5/5\n",
      "6396/6396 [==============================] - 2s 330us/step - loss: 0.4446 - accuracy: 0.7955 - val_loss: 0.5140 - val_accuracy: 0.7500\n"
     ]
    }
   ],
   "source": [
    "gru_hist = grumodel.fit(np.array(X_train_pad), np.array(y_train), \n",
    "                           epochs= 5, batch_size= 300, \n",
    "                           validation_data=(np.array(X_val_pad), np.array(y_val)))"
   ]
  },
  {
   "cell_type": "code",
   "execution_count": 143,
   "metadata": {},
   "outputs": [
    {
     "data": {
      "image/png": "[encoded data removed]",
      "text/plain": [
       "<Figure size 432x288 with 1 Axes>"
      ]
     },
     "metadata": {
      "needs_background": "light"
     },
     "output_type": "display_data"
    },
    {
     "data": {
      "image/png": "[encoded data removed]",
      "text/plain": [
       "<Figure size 432x288 with 1 Axes>"
      ]
     },
     "metadata": {
      "needs_background": "light"
     },
     "output_type": "display_data"
    }
   ],
   "source": [
    "plot_loss_acc(gru_hist)"
   ]
  },
  {
   "cell_type": "markdown",
   "metadata": {},
   "source": [
    "## Halving the sequence length"
   ]
  },
  {
   "cell_type": "code",
   "execution_count": 76,
   "metadata": {},
   "outputs": [],
   "source": [
    "sequence_length = 24"
   ]
  },
  {
   "cell_type": "code",
   "execution_count": 77,
   "metadata": {},
   "outputs": [],
   "source": [
    "X_train_pad = pad_sequences(X_train_sequence, maxlen=sequence_length)\n",
    "X_val_pad = pad_sequences(X_val_sequence, maxlen=sequence_length)\n",
    "X_test_pad = pad_sequences(X_test_sequence, maxlen=sequence_length)"
   ]
  },
  {
   "cell_type": "code",
   "execution_count": 78,
   "metadata": {},
   "outputs": [
    {
     "name": "stdout",
     "output_type": "stream",
     "text": [
      "Model: \"sequential_13\"\n",
      "_________________________________________________________________\n",
      "Layer (type)                 Output Shape              Param #   \n",
      "=================================================================\n",
      "embedding_13 (Embedding)     (None, 24, 300)           6065700   \n",
      "_________________________________________________________________\n",
      "simple_rnn_5 (SimpleRNN)     (None, 36)                12132     \n",
      "_________________________________________________________________\n",
      "dense_13 (Dense)             (None, 1)                 37        \n",
      "=================================================================\n",
      "Total params: 6,077,869\n",
      "Trainable params: 12,169\n",
      "Non-trainable params: 6,065,700\n",
      "_________________________________________________________________\n",
      "None\n"
     ]
    }
   ],
   "source": [
    "rnnmodel = my_rnn(vocab_size, word_index, 300, learning_rate, \n",
    "                     hidden_units, sequence_length)"
   ]
  },
  {
   "cell_type": "code",
   "execution_count": 79,
   "metadata": {},
   "outputs": [
    {
     "name": "stdout",
     "output_type": "stream",
     "text": [
      "Train on 6396 samples, validate on 2132 samples\n",
      "Epoch 1/5\n",
      "6396/6396 [==============================] - 1s 153us/step - loss: 0.6817 - accuracy: 0.5772 - val_loss: 0.6417 - val_accuracy: 0.6262\n",
      "Epoch 2/5\n",
      "6396/6396 [==============================] - 1s 107us/step - loss: 0.5681 - accuracy: 0.7042 - val_loss: 0.5866 - val_accuracy: 0.6989\n",
      "Epoch 3/5\n",
      "6396/6396 [==============================] - 1s 105us/step - loss: 0.5129 - accuracy: 0.7475 - val_loss: 0.5771 - val_accuracy: 0.7059\n",
      "Epoch 4/5\n",
      "6396/6396 [==============================] - 1s 107us/step - loss: 0.4866 - accuracy: 0.7669 - val_loss: 0.5602 - val_accuracy: 0.7153\n",
      "Epoch 5/5\n",
      "6396/6396 [==============================] - 1s 107us/step - loss: 0.4648 - accuracy: 0.7814 - val_loss: 0.5598 - val_accuracy: 0.7139\n"
     ]
    }
   ],
   "source": [
    "rnn_hist = rnnmodel.fit(np.array(X_train_pad), np.array(y_train), \n",
    "                           epochs= 5, batch_size= 300, \n",
    "                           validation_data=(np.array(X_val_pad), np.array(y_val)))"
   ]
  },
  {
   "cell_type": "code",
   "execution_count": 80,
   "metadata": {},
   "outputs": [
    {
     "data": {
      "image/png": "[encoded data removed]",
      "text/plain": [
       "<Figure size 432x288 with 1 Axes>"
      ]
     },
     "metadata": {
      "needs_background": "light"
     },
     "output_type": "display_data"
    },
    {
     "data": {
      "image/png": "[encoded data removed]",
      "text/plain": [
       "<Figure size 432x288 with 1 Axes>"
      ]
     },
     "metadata": {
      "needs_background": "light"
     },
     "output_type": "display_data"
    }
   ],
   "source": [
    "plot_loss_acc(rnn_hist)"
   ]
  },
  {
   "cell_type": "code",
   "execution_count": 144,
   "metadata": {},
   "outputs": [
    {
     "name": "stdout",
     "output_type": "stream",
     "text": [
      "Model: \"sequential_31\"\n",
      "_________________________________________________________________\n",
      "Layer (type)                 Output Shape              Param #   \n",
      "=================================================================\n",
      "embedding_31 (Embedding)     (None, 48, 300)           6065700   \n",
      "_________________________________________________________________\n",
      "lstm_10 (LSTM)               (None, 36)                48528     \n",
      "_________________________________________________________________\n",
      "dense_31 (Dense)             (None, 1)                 37        \n",
      "=================================================================\n",
      "Total params: 6,114,265\n",
      "Trainable params: 48,565\n",
      "Non-trainable params: 6,065,700\n",
      "_________________________________________________________________\n",
      "None\n"
     ]
    }
   ],
   "source": [
    "lstmmodel = my_lstm(vocab_size, word_index, 300, learning_rate, \n",
    "                     hidden_units, sequence_length)"
   ]
  },
  {
   "cell_type": "code",
   "execution_count": 145,
   "metadata": {},
   "outputs": [
    {
     "name": "stdout",
     "output_type": "stream",
     "text": [
      "Train on 6396 samples, validate on 2132 samples\n",
      "Epoch 1/5\n",
      "6396/6396 [==============================] - 3s 456us/step - loss: 0.6595 - accuracy: 0.6138 - val_loss: 0.6140 - val_accuracy: 0.6806\n",
      "Epoch 2/5\n",
      "6396/6396 [==============================] - 2s 388us/step - loss: 0.5523 - accuracy: 0.7284 - val_loss: 0.5389 - val_accuracy: 0.7294\n",
      "Epoch 3/5\n",
      "6396/6396 [==============================] - 2s 374us/step - loss: 0.5002 - accuracy: 0.7577 - val_loss: 0.5152 - val_accuracy: 0.7462\n",
      "Epoch 4/5\n",
      "6396/6396 [==============================] - 2s 369us/step - loss: 0.4670 - accuracy: 0.7735 - val_loss: 0.5066 - val_accuracy: 0.7472\n",
      "Epoch 5/5\n",
      "6396/6396 [==============================] - 2s 360us/step - loss: 0.4466 - accuracy: 0.7900 - val_loss: 0.5005 - val_accuracy: 0.7495\n"
     ]
    }
   ],
   "source": [
    "lstm_hist = lstmmodel.fit(np.array(X_train_pad), np.array(y_train), \n",
    "                           epochs= 5, batch_size= 300, \n",
    "                           validation_data=(np.array(X_val_pad), np.array(y_val)))"
   ]
  },
  {
   "cell_type": "code",
   "execution_count": 146,
   "metadata": {},
   "outputs": [
    {
     "data": {
      "image/png": "[encoded data removed]",
      "text/plain": [
       "<Figure size 432x288 with 1 Axes>"
      ]
     },
     "metadata": {
      "needs_background": "light"
     },
     "output_type": "display_data"
    },
    {
     "data": {
      "image/png": "[encoded data removed]",
      "text/plain": [
       "<Figure size 432x288 with 1 Axes>"
      ]
     },
     "metadata": {
      "needs_background": "light"
     },
     "output_type": "display_data"
    }
   ],
   "source": [
    "plot_loss_acc(lstm_hist)"
   ]
  },
  {
   "cell_type": "code",
   "execution_count": 150,
   "metadata": {},
   "outputs": [
    {
     "name": "stdout",
     "output_type": "stream",
     "text": [
      "Model: \"sequential_33\"\n",
      "_________________________________________________________________\n",
      "Layer (type)                 Output Shape              Param #   \n",
      "=================================================================\n",
      "embedding_33 (Embedding)     (None, 48, 300)           6065700   \n",
      "_________________________________________________________________\n",
      "gru_13 (GRU)                 (None, 36)                36396     \n",
      "_________________________________________________________________\n",
      "dense_33 (Dense)             (None, 1)                 37        \n",
      "=================================================================\n",
      "Total params: 6,102,133\n",
      "Trainable params: 36,433\n",
      "Non-trainable params: 6,065,700\n",
      "_________________________________________________________________\n",
      "None\n"
     ]
    }
   ],
   "source": [
    "grumodel = my_gru(vocab_size, word_index, 300, learning_rate, \n",
    "                     hidden_units, sequence_length)"
   ]
  },
  {
   "cell_type": "code",
   "execution_count": 151,
   "metadata": {},
   "outputs": [
    {
     "name": "stdout",
     "output_type": "stream",
     "text": [
      "Train on 6396 samples, validate on 2132 samples\n",
      "Epoch 1/5\n",
      "6396/6396 [==============================] - 3s 419us/step - loss: 0.6610 - accuracy: 0.6055 - val_loss: 0.6408 - val_accuracy: 0.6327\n",
      "Epoch 2/5\n",
      "6396/6396 [==============================] - 2s 351us/step - loss: 0.5986 - accuracy: 0.6836 - val_loss: 0.5828 - val_accuracy: 0.6937\n",
      "Epoch 3/5\n",
      "6396/6396 [==============================] - 2s 348us/step - loss: 0.5062 - accuracy: 0.7523 - val_loss: 0.5251 - val_accuracy: 0.7369\n",
      "Epoch 4/5\n",
      "6396/6396 [==============================] - 2s 338us/step - loss: 0.4634 - accuracy: 0.7778 - val_loss: 0.5343 - val_accuracy: 0.7406\n",
      "Epoch 5/5\n",
      "6396/6396 [==============================] - 2s 338us/step - loss: 0.4480 - accuracy: 0.7921 - val_loss: 0.5113 - val_accuracy: 0.7373\n"
     ]
    }
   ],
   "source": [
    "gru_hist = grumodel.fit(np.array(X_train_pad), np.array(y_train), \n",
    "                           epochs= 5, batch_size= 300, \n",
    "                           validation_data=(np.array(X_val_pad), np.array(y_val)))"
   ]
  },
  {
   "cell_type": "code",
   "execution_count": 152,
   "metadata": {},
   "outputs": [
    {
     "data": {
      "image/png": "[encoded data removed]",
      "text/plain": [
       "<Figure size 432x288 with 1 Axes>"
      ]
     },
     "metadata": {
      "needs_background": "light"
     },
     "output_type": "display_data"
    },
    {
     "data": {
      "image/png": "[encoded data removed]",
      "text/plain": [
       "<Figure size 432x288 with 1 Axes>"
      ]
     },
     "metadata": {
      "needs_background": "light"
     },
     "output_type": "display_data"
    }
   ],
   "source": [
    "plot_loss_acc(gru_hist)"
   ]
  },
  {
   "cell_type": "markdown",
   "metadata": {},
   "source": [
    "### Observations:\n",
    "#### (i) Doubling and halving the sequence length doesn't reflect much change in loss, the reason being padding which normalizes the sequence length.\n",
    "#### (ii) Though halving the sequence length might increase the accuracy a little which says that initial words of review play a crucial in classifying a review but there will be an increase in loss as epochs increase.\n",
    "#### From above, we can conclude and set sequence length to 48."
   ]
  },
  {
   "cell_type": "markdown",
   "metadata": {},
   "source": [
    "## Using 50d word embedding"
   ]
  },
  {
   "cell_type": "code",
   "execution_count": 87,
   "metadata": {},
   "outputs": [],
   "source": [
    "hidden_units = 36\n",
    "sequence_length = 48"
   ]
  },
  {
   "cell_type": "code",
   "execution_count": 88,
   "metadata": {},
   "outputs": [],
   "source": [
    "X_train_pad = pad_sequences(X_train_sequence, maxlen=sequence_length)\n",
    "X_val_pad = pad_sequences(X_val_sequence, maxlen=sequence_length)\n",
    "X_test_pad = pad_sequences(X_test_sequence, maxlen=sequence_length)"
   ]
  },
  {
   "cell_type": "code",
   "execution_count": 89,
   "metadata": {},
   "outputs": [
    {
     "name": "stdout",
     "output_type": "stream",
     "text": [
      "Model: \"sequential_16\"\n",
      "_________________________________________________________________\n",
      "Layer (type)                 Output Shape              Param #   \n",
      "=================================================================\n",
      "embedding_16 (Embedding)     (None, 48, 50)            1010950   \n",
      "_________________________________________________________________\n",
      "simple_rnn_6 (SimpleRNN)     (None, 36)                3132      \n",
      "_________________________________________________________________\n",
      "dense_16 (Dense)             (None, 1)                 37        \n",
      "=================================================================\n",
      "Total params: 1,014,119\n",
      "Trainable params: 3,169\n",
      "Non-trainable params: 1,010,950\n",
      "_________________________________________________________________\n",
      "None\n"
     ]
    }
   ],
   "source": [
    "rnnmodel = my_rnn(vocab_size, word_index, 50, learning_rate, \n",
    "                     hidden_units, sequence_length)"
   ]
  },
  {
   "cell_type": "code",
   "execution_count": 90,
   "metadata": {},
   "outputs": [
    {
     "name": "stdout",
     "output_type": "stream",
     "text": [
      "Train on 6396 samples, validate on 2132 samples\n",
      "Epoch 1/5\n",
      "6396/6396 [==============================] - 1s 150us/step - loss: 0.7297 - accuracy: 0.5077 - val_loss: 0.7181 - val_accuracy: 0.5066\n",
      "Epoch 2/5\n",
      "6396/6396 [==============================] - 1s 102us/step - loss: 0.6802 - accuracy: 0.5721 - val_loss: 0.6925 - val_accuracy: 0.5474\n",
      "Epoch 3/5\n",
      "6396/6396 [==============================] - 1s 100us/step - loss: 0.6586 - accuracy: 0.6026 - val_loss: 0.6795 - val_accuracy: 0.5680\n",
      "Epoch 4/5\n",
      "6396/6396 [==============================] - 1s 96us/step - loss: 0.6399 - accuracy: 0.6270 - val_loss: 0.6623 - val_accuracy: 0.6008\n",
      "Epoch 5/5\n",
      "6396/6396 [==============================] - 1s 99us/step - loss: 0.6122 - accuracy: 0.6696 - val_loss: 0.6313 - val_accuracy: 0.6454\n"
     ]
    }
   ],
   "source": [
    "rnn_hist = rnnmodel.fit(np.array(X_train_pad), np.array(y_train), \n",
    "                           epochs= 5, batch_size= 300, \n",
    "                           validation_data=(np.array(X_val_pad), np.array(y_val)))"
   ]
  },
  {
   "cell_type": "code",
   "execution_count": 91,
   "metadata": {},
   "outputs": [
    {
     "data": {
      "image/png": "[encoded data removed]",
      "text/plain": [
       "<Figure size 432x288 with 1 Axes>"
      ]
     },
     "metadata": {
      "needs_background": "light"
     },
     "output_type": "display_data"
    },
    {
     "data": {
      "image/png": "[encoded data removed]",
      "text/plain": [
       "<Figure size 432x288 with 1 Axes>"
      ]
     },
     "metadata": {
      "needs_background": "light"
     },
     "output_type": "display_data"
    }
   ],
   "source": [
    "plot_loss_acc(rnn_hist)"
   ]
  },
  {
   "cell_type": "code",
   "execution_count": 153,
   "metadata": {},
   "outputs": [
    {
     "name": "stdout",
     "output_type": "stream",
     "text": [
      "Model: \"sequential_34\"\n",
      "_________________________________________________________________\n",
      "Layer (type)                 Output Shape              Param #   \n",
      "=================================================================\n",
      "embedding_34 (Embedding)     (None, 48, 50)            1010950   \n",
      "_________________________________________________________________\n",
      "lstm_11 (LSTM)               (None, 36)                12528     \n",
      "_________________________________________________________________\n",
      "dense_34 (Dense)             (None, 1)                 37        \n",
      "=================================================================\n",
      "Total params: 1,023,515\n",
      "Trainable params: 12,565\n",
      "Non-trainable params: 1,010,950\n",
      "_________________________________________________________________\n",
      "None\n"
     ]
    }
   ],
   "source": [
    "lstmmodel = my_lstm(vocab_size, word_index, 50, learning_rate, \n",
    "                     hidden_units, sequence_length)"
   ]
  },
  {
   "cell_type": "code",
   "execution_count": 154,
   "metadata": {},
   "outputs": [
    {
     "name": "stdout",
     "output_type": "stream",
     "text": [
      "Train on 6396 samples, validate on 2132 samples\n",
      "Epoch 1/5\n",
      "6396/6396 [==============================] - 2s 320us/step - loss: 0.6766 - accuracy: 0.5802 - val_loss: 0.6586 - val_accuracy: 0.6243\n",
      "Epoch 2/5\n",
      "6396/6396 [==============================] - 2s 244us/step - loss: 0.6377 - accuracy: 0.6437 - val_loss: 0.6215 - val_accuracy: 0.6534\n",
      "Epoch 3/5\n",
      "6396/6396 [==============================] - 2s 248us/step - loss: 0.5978 - accuracy: 0.6846 - val_loss: 0.6013 - val_accuracy: 0.6796\n",
      "Epoch 4/5\n",
      "6396/6396 [==============================] - 2s 255us/step - loss: 0.5740 - accuracy: 0.7101 - val_loss: 0.5918 - val_accuracy: 0.6829\n",
      "Epoch 5/5\n",
      "6396/6396 [==============================] - 2s 254us/step - loss: 0.5581 - accuracy: 0.7148 - val_loss: 0.5766 - val_accuracy: 0.7078\n"
     ]
    }
   ],
   "source": [
    "lstm_hist = lstmmodel.fit(np.array(X_train_pad), np.array(y_train), \n",
    "                           epochs= 5, batch_size= 300, \n",
    "                           validation_data=(np.array(X_val_pad), np.array(y_val)))"
   ]
  },
  {
   "cell_type": "code",
   "execution_count": 155,
   "metadata": {},
   "outputs": [
    {
     "data": {
      "image/png": "[encoded data removed]",
      "text/plain": [
       "<Figure size 432x288 with 1 Axes>"
      ]
     },
     "metadata": {
      "needs_background": "light"
     },
     "output_type": "display_data"
    },
    {
     "data": {
      "image/png": "[encoded data removed]",
      "text/plain": [
       "<Figure size 432x288 with 1 Axes>"
      ]
     },
     "metadata": {
      "needs_background": "light"
     },
     "output_type": "display_data"
    }
   ],
   "source": [
    "plot_loss_acc(lstm_hist)"
   ]
  },
  {
   "cell_type": "code",
   "execution_count": 95,
   "metadata": {},
   "outputs": [
    {
     "name": "stdout",
     "output_type": "stream",
     "text": [
      "Model: \"sequential_18\"\n",
      "_________________________________________________________________\n",
      "Layer (type)                 Output Shape              Param #   \n",
      "=================================================================\n",
      "embedding_18 (Embedding)     (None, 48, 50)            1010950   \n",
      "_________________________________________________________________\n",
      "gru_6 (GRU)                  (None, 36)                9396      \n",
      "_________________________________________________________________\n",
      "dense_18 (Dense)             (None, 1)                 37        \n",
      "=================================================================\n",
      "Total params: 1,020,383\n",
      "Trainable params: 9,433\n",
      "Non-trainable params: 1,010,950\n",
      "_________________________________________________________________\n",
      "None\n"
     ]
    }
   ],
   "source": [
    "grumodel = my_gru(vocab_size, word_index, 50, learning_rate, \n",
    "                     hidden_units, sequence_length)"
   ]
  },
  {
   "cell_type": "code",
   "execution_count": 96,
   "metadata": {},
   "outputs": [
    {
     "name": "stdout",
     "output_type": "stream",
     "text": [
      "Train on 6396 samples, validate on 2132 samples\n",
      "Epoch 1/5\n",
      "6396/6396 [==============================] - 2s 318us/step - loss: 0.6845 - accuracy: 0.5467 - val_loss: 0.6752 - val_accuracy: 0.5732\n",
      "Epoch 2/5\n",
      "6396/6396 [==============================] - 1s 219us/step - loss: 0.6584 - accuracy: 0.6118 - val_loss: 0.6599 - val_accuracy: 0.6018\n",
      "Epoch 3/5\n",
      "6396/6396 [==============================] - 1s 220us/step - loss: 0.6374 - accuracy: 0.6366 - val_loss: 0.6420 - val_accuracy: 0.6384\n",
      "Epoch 4/5\n",
      "6396/6396 [==============================] - 1s 218us/step - loss: 0.6026 - accuracy: 0.6793 - val_loss: 0.5989 - val_accuracy: 0.6745\n",
      "Epoch 5/5\n",
      "6396/6396 [==============================] - 1s 222us/step - loss: 0.5625 - accuracy: 0.7178 - val_loss: 0.5864 - val_accuracy: 0.6876\n"
     ]
    }
   ],
   "source": [
    "gru_hist = grumodel.fit(np.array(X_train_pad), np.array(y_train), \n",
    "                           epochs= 5, batch_size= 300, \n",
    "                           validation_data=(np.array(X_val_pad), np.array(y_val)))"
   ]
  },
  {
   "cell_type": "code",
   "execution_count": 97,
   "metadata": {},
   "outputs": [
    {
     "data": {
      "image/png": "[encoded data removed]",
      "text/plain": [
       "<Figure size 432x288 with 1 Axes>"
      ]
     },
     "metadata": {
      "needs_background": "light"
     },
     "output_type": "display_data"
    },
    {
     "data": {
      "image/png": "[encoded data removed]",
      "text/plain": [
       "<Figure size 432x288 with 1 Axes>"
      ]
     },
     "metadata": {
      "needs_background": "light"
     },
     "output_type": "display_data"
    }
   ],
   "source": [
    "plot_loss_acc(gru_hist)"
   ]
  },
  {
   "cell_type": "markdown",
   "metadata": {},
   "source": [
    "##### We can see that when word embedding of 50d for one word was used there is a drop in accuracy because it is known that higher dimensional matrix better represent the word and hence validaiton accuracy might increase as the dimension of word embeddings increase. "
   ]
  },
  {
   "cell_type": "markdown",
   "metadata": {},
   "source": [
    "## Best Model Evaluation"
   ]
  },
  {
   "cell_type": "markdown",
   "metadata": {},
   "source": [
    "### RNN"
   ]
  },
  {
   "cell_type": "code",
   "execution_count": 220,
   "metadata": {},
   "outputs": [],
   "source": [
    "hidden_units = 36\n",
    "sequence_length = 48"
   ]
  },
  {
   "cell_type": "code",
   "execution_count": 221,
   "metadata": {},
   "outputs": [],
   "source": [
    "X_train_pad = pad_sequences(X_train_sequence, maxlen=sequence_length)\n",
    "X_val_pad = pad_sequences(X_val_sequence, maxlen=sequence_length)\n",
    "X_test_pad = pad_sequences(X_test_sequence, maxlen=sequence_length)"
   ]
  },
  {
   "cell_type": "code",
   "execution_count": 222,
   "metadata": {},
   "outputs": [
    {
     "name": "stdout",
     "output_type": "stream",
     "text": [
      "Model: \"sequential_44\"\n",
      "_________________________________________________________________\n",
      "Layer (type)                 Output Shape              Param #   \n",
      "=================================================================\n",
      "embedding_44 (Embedding)     (None, 48, 300)           6065700   \n",
      "_________________________________________________________________\n",
      "simple_rnn_15 (SimpleRNN)    (None, 36)                12132     \n",
      "_________________________________________________________________\n",
      "dense_44 (Dense)             (None, 1)                 37        \n",
      "=================================================================\n",
      "Total params: 6,077,869\n",
      "Trainable params: 12,169\n",
      "Non-trainable params: 6,065,700\n",
      "_________________________________________________________________\n",
      "None\n"
     ]
    }
   ],
   "source": [
    "rnnmodel = my_rnn(vocab_size, word_index, 300, learning_rate, \n",
    "                     hidden_units, sequence_length)"
   ]
  },
  {
   "cell_type": "code",
   "execution_count": 223,
   "metadata": {},
   "outputs": [
    {
     "name": "stdout",
     "output_type": "stream",
     "text": [
      "Train on 6396 samples, validate on 2132 samples\n",
      "Epoch 1/5\n",
      "6396/6396 [==============================] - 2s 247us/step - loss: 0.7065 - accuracy: 0.5399 - val_loss: 0.6791 - val_accuracy: 0.5680\n",
      "Epoch 2/5\n",
      "6396/6396 [==============================] - 1s 198us/step - loss: 0.6367 - accuracy: 0.6331 - val_loss: 0.6409 - val_accuracy: 0.6257\n",
      "Epoch 3/5\n",
      "6396/6396 [==============================] - 1s 199us/step - loss: 0.5664 - accuracy: 0.7087 - val_loss: 0.5698 - val_accuracy: 0.7233\n",
      "Epoch 4/5\n",
      "6396/6396 [==============================] - 1s 199us/step - loss: 0.5050 - accuracy: 0.7548 - val_loss: 0.5532 - val_accuracy: 0.7256\n",
      "Epoch 5/5\n",
      "6396/6396 [==============================] - 1s 198us/step - loss: 0.4751 - accuracy: 0.7725 - val_loss: 0.5498 - val_accuracy: 0.7270\n"
     ]
    }
   ],
   "source": [
    "rnn_hist = rnnmodel.fit(np.array(X_train_pad), np.array(y_train), \n",
    "                           epochs= 5, batch_size= 300, \n",
    "                           validation_data=(np.array(X_val_pad), np.array(y_val)))"
   ]
  },
  {
   "cell_type": "code",
   "execution_count": 224,
   "metadata": {},
   "outputs": [],
   "source": [
    "rnn_predict = rnnmodel.predict_classes(np.array(X_test_pad))"
   ]
  },
  {
   "cell_type": "code",
   "execution_count": 225,
   "metadata": {},
   "outputs": [],
   "source": [
    "rnn_precision = precision_score(np.asarray(y_test),rnn_predict,average='binary')\n",
    "rnn_recall = recall_score(np.asarray(y_test), rnn_predict, average='binary')\n",
    "rnn_f1 = f1_score(np.asarray(y_test),rnn_predict,average='binary')"
   ]
  },
  {
   "cell_type": "code",
   "execution_count": 226,
   "metadata": {},
   "outputs": [
    {
     "name": "stdout",
     "output_type": "stream",
     "text": [
      "Precision:  0.7335190343546889\n",
      "Recall:  0.7403936269915652\n",
      "F1-measure:  0.7369402985074627\n"
     ]
    }
   ],
   "source": [
    "print('Precision: ', rnn_precision)\n",
    "print('Recall: ', rnn_recall)\n",
    "print('F1-measure: ', rnn_f1)"
   ]
  },
  {
   "cell_type": "markdown",
   "metadata": {},
   "source": [
    "### LSTM"
   ]
  },
  {
   "cell_type": "code",
   "execution_count": 232,
   "metadata": {},
   "outputs": [
    {
     "name": "stdout",
     "output_type": "stream",
     "text": [
      "Model: \"sequential_46\"\n",
      "_________________________________________________________________\n",
      "Layer (type)                 Output Shape              Param #   \n",
      "=================================================================\n",
      "embedding_46 (Embedding)     (None, 48, 300)           6065700   \n",
      "_________________________________________________________________\n",
      "lstm_15 (LSTM)               (None, 36)                48528     \n",
      "_________________________________________________________________\n",
      "dense_46 (Dense)             (None, 1)                 37        \n",
      "=================================================================\n",
      "Total params: 6,114,265\n",
      "Trainable params: 48,565\n",
      "Non-trainable params: 6,065,700\n",
      "_________________________________________________________________\n",
      "None\n"
     ]
    }
   ],
   "source": [
    "lstmmodel = my_lstm(vocab_size, word_index, 300, learning_rate, \n",
    "                     hidden_units, sequence_length)"
   ]
  },
  {
   "cell_type": "code",
   "execution_count": 233,
   "metadata": {},
   "outputs": [
    {
     "name": "stdout",
     "output_type": "stream",
     "text": [
      "Train on 6396 samples, validate on 2132 samples\n",
      "Epoch 1/5\n",
      "6396/6396 [==============================] - 3s 431us/step - loss: 0.6601 - accuracy: 0.6149 - val_loss: 0.6206 - val_accuracy: 0.6731\n",
      "Epoch 2/5\n",
      "6396/6396 [==============================] - 2s 355us/step - loss: 0.5553 - accuracy: 0.7242 - val_loss: 0.5457 - val_accuracy: 0.7242\n",
      "Epoch 3/5\n",
      "6396/6396 [==============================] - 2s 351us/step - loss: 0.4932 - accuracy: 0.7664 - val_loss: 0.5206 - val_accuracy: 0.7383\n",
      "Epoch 4/5\n",
      "6396/6396 [==============================] - 2s 359us/step - loss: 0.4658 - accuracy: 0.7785 - val_loss: 0.5195 - val_accuracy: 0.7402\n",
      "Epoch 5/5\n",
      "6396/6396 [==============================] - 2s 360us/step - loss: 0.4459 - accuracy: 0.7892 - val_loss: 0.5202 - val_accuracy: 0.7472\n"
     ]
    }
   ],
   "source": [
    "lstm_hist = lstmmodel.fit(np.array(X_train_pad), np.array(y_train), \n",
    "                           epochs= 5, batch_size= 300, \n",
    "                           validation_data=(np.array(X_val_pad), np.array(y_val)))"
   ]
  },
  {
   "cell_type": "code",
   "execution_count": 234,
   "metadata": {},
   "outputs": [],
   "source": [
    "lstm_predict = lstmmodel.predict_classes(np.array(X_test_pad))"
   ]
  },
  {
   "cell_type": "code",
   "execution_count": 235,
   "metadata": {},
   "outputs": [],
   "source": [
    "lstm_precision = precision_score(np.asarray(y_test), lstm_predict, average='binary')\n",
    "lstm_recall = recall_score(np.asarray(y_test), lstm_predict, average='binary')\n",
    "lstm_f1 = f1_score(np.asarray(y_test), lstm_predict,average='binary')"
   ]
  },
  {
   "cell_type": "code",
   "execution_count": 236,
   "metadata": {},
   "outputs": [
    {
     "name": "stdout",
     "output_type": "stream",
     "text": [
      "Precision:  0.7422222222222222\n",
      "Recall:  0.7825679475164011\n",
      "F1-measure:  0.7618613138686131\n"
     ]
    }
   ],
   "source": [
    "print('Precision: ', lstm_precision)\n",
    "print('Recall: ', lstm_recall)\n",
    "print('F1-measure: ', lstm_f1)"
   ]
  },
  {
   "cell_type": "markdown",
   "metadata": {},
   "source": [
    "### GRU"
   ]
  },
  {
   "cell_type": "code",
   "execution_count": 237,
   "metadata": {},
   "outputs": [
    {
     "name": "stdout",
     "output_type": "stream",
     "text": [
      "Model: \"sequential_47\"\n",
      "_________________________________________________________________\n",
      "Layer (type)                 Output Shape              Param #   \n",
      "=================================================================\n",
      "embedding_47 (Embedding)     (None, 48, 300)           6065700   \n",
      "_________________________________________________________________\n",
      "gru_17 (GRU)                 (None, 36)                36396     \n",
      "_________________________________________________________________\n",
      "dense_47 (Dense)             (None, 1)                 37        \n",
      "=================================================================\n",
      "Total params: 6,102,133\n",
      "Trainable params: 36,433\n",
      "Non-trainable params: 6,065,700\n",
      "_________________________________________________________________\n",
      "None\n"
     ]
    }
   ],
   "source": [
    "grumodel = my_gru(vocab_size, word_index, 300, learning_rate, \n",
    "                     hidden_units, sequence_length)"
   ]
  },
  {
   "cell_type": "code",
   "execution_count": 238,
   "metadata": {},
   "outputs": [
    {
     "name": "stdout",
     "output_type": "stream",
     "text": [
      "Train on 6396 samples, validate on 2132 samples\n",
      "Epoch 1/5\n",
      "6396/6396 [==============================] - 3s 464us/step - loss: 0.6782 - accuracy: 0.5732 - val_loss: 0.6500 - val_accuracy: 0.6257\n",
      "Epoch 2/5\n",
      "6396/6396 [==============================] - 2s 337us/step - loss: 0.6126 - accuracy: 0.6710 - val_loss: 0.6069 - val_accuracy: 0.6721\n",
      "Epoch 3/5\n",
      "6396/6396 [==============================] - 2s 331us/step - loss: 0.5313 - accuracy: 0.7395 - val_loss: 0.5347 - val_accuracy: 0.7369\n",
      "Epoch 4/5\n",
      "6396/6396 [==============================] - 2s 351us/step - loss: 0.4697 - accuracy: 0.7760 - val_loss: 0.5184 - val_accuracy: 0.7430\n",
      "Epoch 5/5\n",
      "6396/6396 [==============================] - 2s 348us/step - loss: 0.4464 - accuracy: 0.7933 - val_loss: 0.5115 - val_accuracy: 0.7439\n"
     ]
    }
   ],
   "source": [
    "gru_hist = grumodel.fit(np.array(X_train_pad), np.array(y_train), \n",
    "                           epochs= 5, batch_size= 300, \n",
    "                           validation_data=(np.array(X_val_pad), np.array(y_val)))"
   ]
  },
  {
   "cell_type": "code",
   "execution_count": 239,
   "metadata": {},
   "outputs": [],
   "source": [
    "gru_predict = grumodel.predict_classes(np.array(X_test_pad))"
   ]
  },
  {
   "cell_type": "code",
   "execution_count": 240,
   "metadata": {},
   "outputs": [],
   "source": [
    "gru_precision = precision_score(np.asarray(y_test), gru_predict, average= 'binary')\n",
    "gru_recall = recall_score(np.asarray(y_test), gru_predict, average= 'binary')\n",
    "gru_f1 = f1_score(np.asarray(y_test), gru_predict, average= 'binary')"
   ]
  },
  {
   "cell_type": "code",
   "execution_count": 241,
   "metadata": {},
   "outputs": [
    {
     "name": "stdout",
     "output_type": "stream",
     "text": [
      "Precision:  0.7810590631364562\n",
      "Recall:  0.7188378631677601\n",
      "F1-measure:  0.7486578818936067\n"
     ]
    }
   ],
   "source": [
    "print('Precision: ', gru_precision)\n",
    "print('Recall: ', gru_recall)\n",
    "print('F1-measure: ', gru_f1)"
   ]
  },
  {
   "cell_type": "markdown",
   "metadata": {},
   "source": [
    "## Complete analysis of models"
   ]
  },
  {
   "cell_type": "markdown",
   "metadata": {},
   "source": [
    "#### (i) F1 score is the harmonic mean of precision and recall, used when there is uneven class distribution. But, here we have even class distribution which means F1 is not that important measure.\n",
    "#### (ii) All the measures for all the models are almost similar except for Recall. LSTM has higher recall when comapred to the other two which means it has less false negatives and LSTM can be used when the outcome of a review is very important.\n",
    "#### (iii) GRU is the best model for this dataset with slightly higher accuracy of ~79% and would increase as dimensions of word embedding matrix increases."
   ]
  },
  {
   "cell_type": "code",
   "execution_count": null,
   "metadata": {},
   "outputs": [],
   "source": []
  }
 ],
 "metadata": {
  "kernelspec": {
   "display_name": "Python 3",
   "language": "python",
   "name": "python3"
  },
  "language_info": {
   "codemirror_mode": {
    "name": "ipython",
    "version": 3
   },
   "file_extension": ".py",
   "mimetype": "text/x-python",
   "name": "python",
   "nbconvert_exporter": "python",
   "pygments_lexer": "ipython3",
   "version": "3.7.7"
  }
 },
 "nbformat": 4,
 "nbformat_minor": 4
}
